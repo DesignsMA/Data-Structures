{
  "nbformat": 4,
  "nbformat_minor": 0,
  "metadata": {
    "colab": {
      "provenance": [],
      "toc_visible": true,
      "authorship_tag": "ABX9TyNkKl4ewXa648Th+ukRB8+o",
      "include_colab_link": true
    },
    "kernelspec": {
      "name": "python3",
      "display_name": "Python 3"
    },
    "language_info": {
      "name": "python"
    }
  },
  "cells": [
    {
      "cell_type": "markdown",
      "metadata": {
        "id": "view-in-github",
        "colab_type": "text"
      },
      "source": [
        "<a href=\"https://colab.research.google.com/github/DesignsMA/Data-Structures/blob/main/Data_Structures.ipynb\" target=\"_parent\"><img src=\"https://colab.research.google.com/assets/colab-badge.svg\" alt=\"Open In Colab\"/></a>"
      ]
    },
    {
      "cell_type": "markdown",
      "source": [
        "# LISTA LIGADA SIMPLE DINÁMICA"
      ],
      "metadata": {
        "id": "A9go2ywOGKHa"
      }
    },
    {
      "cell_type": "markdown",
      "source": [
        "**POR IMPLEMENTAR:**\n",
        "1.   Insertar en medio\n",
        "2.   Eliminar final\n",
        "3.   Eliminar inicio\n",
        "3.   Eliminar en medio\n",
        "\n",
        "\n"
      ],
      "metadata": {
        "id": "D2WS7ssXDPdB"
      }
    },
    {
      "cell_type": "code",
      "execution_count": null,
      "metadata": {
        "id": "vpVkwbreCIl3"
      },
      "outputs": [],
      "source": [
        "\n",
        "class Nodo:\n",
        "    def __init__(self, data):\n",
        "        self.data = data  # Dato del nodo\n",
        "        self.sig = None   # Referencia al siguiente nodo\n",
        "\n",
        "class Lista:\n",
        "    def __init__(self):\n",
        "        self.root = None  # La lista empieza vacía\n",
        "\n",
        "    def insertEnd(self, data):\n",
        "        \"\"\"Inserta un nodo al final de la lista.\"\"\"\n",
        "        new = Nodo(data)\n",
        "\n",
        "        if self.root is None:\n",
        "            self.root = new  # Si la lista está vacía, el new nodo es la raíz\n",
        "        else:\n",
        "            aux = self.root\n",
        "            while aux.sig is not None:  # Recorrer hasta el final\n",
        "                aux = aux.sig\n",
        "            aux.sig = new  # Insertar al final\n",
        "\n",
        "    def insertStart(self, data):\n",
        "        \"\"\"Inserta un nodo al inicio de la lista.\"\"\"\n",
        "        new = Nodo(data)\n",
        "        aux = self.root\n",
        "        new.sig = aux # apunta a la  raiz\n",
        "        self.root = new # ahora es la nueva raiz\n",
        "\n",
        "\n",
        "    def print(self):\n",
        "        \"\"\"Imprime la lista completa.\"\"\"\n",
        "        current = self.root\n",
        "        while current is not None:\n",
        "            print(current.data, end=\" -> \")\n",
        "            current = current.sig\n",
        "        print(\"None\")\n",
        "\n",
        "\n",
        "list = Lista()\n",
        "list.insertStart(0)\n",
        "list.insertEnd(-1)\n",
        "list.insertEnd([-2,4,5]) #en python, una lista puede apuntar a diferentes tipos de objetos u datos\n",
        "list.insertEnd(Lista())\n",
        "list.insertStart(\"lista\")\n",
        "list.print()"
      ]
    },
    {
      "cell_type": "markdown",
      "source": [
        "# LISTA LIGADA DOBLE DINÁMICA"
      ],
      "metadata": {
        "id": "L4bstkgRGOaC"
      }
    },
    {
      "cell_type": "markdown",
      "source": [
        "**POR IMPLEMENTAR:**\n",
        "1.   WIP\n",
        "\n",
        "\n"
      ],
      "metadata": {
        "id": "QZGYiriwGW44"
      }
    }
  ]
}